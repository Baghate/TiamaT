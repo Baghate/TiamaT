{
 "cells": [
  {
   "cell_type": "markdown",
   "id": "bd3194bb-2615-4064-9c47-b75bf55066cf",
   "metadata": {},
   "source": [
    "# Launch LABEL STUDIO"
   ]
  },
  {
   "cell_type": "markdown",
   "id": "98b096bd-b2c0-49ab-9b53-c3672a7b33d4",
   "metadata": {
    "editable": true,
    "slideshow": {
     "slide_type": ""
    },
    "tags": []
   },
   "source": [
    "This notebook is used to launch Label Studio from a Jupyter server. To avoid conflicts if several users need to work at the same time, edit a new port for each of them. Label Studio's default port is 8080, so if you need to change it, you must check the YOURPORT variable and change it if necessary.\n",
    "See the Label Studio documentation https://labelstud.io/guide/start.html#Run-Label-Studio-on-localhost-with-a-different-port\n",
    "\n",
    "**Warning**\n",
    "Before launching this notebook, make sure that the kernel you have chosen contains the necessary dependencies to launch Label Studio. If this is not the case, please follow the instructions below: \n",
    "\n",
    "**Notice concerning use** \n",
    "Any use, even partial, of the content of this notebook must be accompanied by an appropriate citation.\n",
    "\n",
    "&copy; 2025 Marion Charpier"
   ]
  },
  {
   "cell_type": "code",
   "execution_count": 1,
   "id": "2d9c165b-77cf-4471-828c-6b55ec555699",
   "metadata": {},
   "outputs": [],
   "source": [
    "import os"
   ]
  },
  {
   "cell_type": "code",
   "execution_count": null,
   "id": "4014f2dd-c3c0-49b5-b536-a0a560b960b6",
   "metadata": {},
   "outputs": [],
   "source": [
    "# Default configuration for Label Studio\n",
    "YOUR_PORT = \"8080\"\n",
    "SERVER_IP = \"localhost\""
   ]
  },
  {
   "cell_type": "code",
   "execution_count": null,
   "id": "06155dd7-0506-4a3b-b439-ada8299a7d7c",
   "metadata": {},
   "outputs": [],
   "source": [
    "# Set Label Studio environment variables\n",
    "os.environ['LABEL_STUDIO_PORT'] = YOUR_PORT\n",
    "os.environ['LABEL_STUDIO_HOST'] = f'http://{SERVER_IP}:{YOUR_PORT}'\n",
    "os.environ['LOCAL_FILES_DOCUMENT_ROOT'] = '/'\n",
    "os.environ['LABEL_STUDIO_LOCAL_FILES_SERVING_ENABLED'] = 'true'\n",
    "\n",
    "# Launch Label Studio\n",
    "try:\n",
    "    print(\"Starting Label Studio...\")\n",
    "    os.system('label-studio start')\n",
    "except Exception as e:\n",
    "    print(f\"Error while starting Label Studio: {e}\")"
   ]
  }
 ],
 "metadata": {
  "kernelspec": {
   "display_name": "label_studio_env",
   "language": "python",
   "name": "label_studio_env"
  },
  "language_info": {
   "codemirror_mode": {
    "name": "ipython",
    "version": 3
   },
   "file_extension": ".py",
   "mimetype": "text/x-python",
   "name": "python",
   "nbconvert_exporter": "python",
   "pygments_lexer": "ipython3",
   "version": "3.8.0"
  }
 },
 "nbformat": 4,
 "nbformat_minor": 5
}
