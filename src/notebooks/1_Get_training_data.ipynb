{
 "cells": [
  {
   "cell_type": "markdown",
   "id": "dbc6b497-9e7f-413e-b818-aeba455c311d",
   "metadata": {
    "editable": true,
    "slideshow": {
     "slide_type": ""
    },
    "tags": []
   },
   "source": [
    "# Extracting Annotated Training Data"
   ]
  },
  {
   "cell_type": "markdown",
   "id": "0317f586-8b9f-47cb-b1aa-5f9da9654683",
   "metadata": {},
   "source": [
    "This notebook is the first step in preparing your dataset for model training.\n",
    "\n",
    "It processes Label Studio JSON exports to build a YOLO-compatible training folder with:\n",
    "- `images/` – containing **only** annotated images\n",
    "- `labels/` – YOLO-format `.txt` files\n",
    "- `labels.txt` – listing **only used** annotation classes\n",
    "\n",
    "📂 **This notebook expects**:\n",
    "- JSON annotations exported from Label Studio\n",
    "- A valid `project/` folder structure as described in the [README](../../README.md)\n",
    "\n",
    "It will generate a YOLO-formatted training dataset under `data/`, based on the project name.\n",
    "\n",
    "---\n",
    "\n",
    "&copy; 2023 Marion Charpier — use of this notebook requires appropriate citation."
   ]
  },
  {
   "cell_type": "markdown",
   "id": "850d73b4-471b-4701-a9dc-cd98e1e17f30",
   "metadata": {},
   "source": [
    "## Environment"
   ]
  },
  {
   "cell_type": "code",
   "execution_count": 1,
   "id": "1c48360d-0625-465d-9aec-8220958d4607",
   "metadata": {},
   "outputs": [],
   "source": [
    "import shutil\n",
    "from pathlib import Path\n",
    "\n",
    "import pandas as pd\n",
    "from PIL import Image\n",
    "\n",
    "import sys\n",
    "sys.path.append(str(Path.cwd().parent / 'modules'))\n",
    "\n",
    "\n",
    "from transform_coordinates_functions import from_ls_to_yolo\n",
    "from class_names_functions import get_labels, get_class_code\n",
    "from folders_path import get_img_folder_training, get_ground_truth_folder_training, get_data_folder\n",
    "from manipulate_files import open_json_file"
   ]
  },
  {
   "cell_type": "markdown",
   "id": "5b5fe2fb-9a1c-40c9-9646-f8c554b3a9f8",
   "metadata": {},
   "source": [
    "## Functions"
   ]
  },
  {
   "cell_type": "markdown",
   "id": "e5b1b31e-4cf8-4016-9178-29e7a2b3cbfb",
   "metadata": {},
   "source": [
    "### Create a csv file with images data"
   ]
  },
  {
   "cell_type": "code",
   "execution_count": 2,
   "id": "4f9912e1-6c70-4252-b0d0-6eb4714f0171",
   "metadata": {
    "editable": true,
    "slideshow": {
     "slide_type": ""
    },
    "tags": []
   },
   "outputs": [],
   "source": [
    "def create_csv_file(project_folder:str) -> None:\n",
    "    \"\"\"\n",
    "    Generates a CSV file with metadata for all images in the project.\n",
    "\n",
    "    Parameters\n",
    "    ----------\n",
    "    project_folder : str\n",
    "        Path to the project folder containing images.\n",
    "\n",
    "    Returns\n",
    "    -------\n",
    "    None\n",
    "        Saves a CSV file in the image folder with metadata for each image.\n",
    "\n",
    "    The CSV includes:\n",
    "        - Image name (without extension)\n",
    "        - Folder name\n",
    "        - Absolute path\n",
    "        - Format (JPEG, PNG, etc.)\n",
    "        - Width and height\n",
    "        - Total pixel count (width × height)\n",
    "    \"\"\"\n",
    "\n",
    "    project_name = Path(project_folder).name\n",
    "    img_folder = Path(get_img_folder_training(project_folder))\n",
    "\n",
    "    if not img_folder.exists():\n",
    "        raise FileNotFoundError(f\"Image folder not found: {img_folder}\")\n",
    "    \n",
    "    img_exts = {\".jpg\", \".jpeg\", \".png\", \".tiff\"}\n",
    "    \n",
    "    images = [img for img in img_folder.iterdir() if img.suffix.lower() in img_exts]\n",
    "\n",
    "    # Retrieve the size for each image and save the relevant information in a dictionary\n",
    "    data = []\n",
    "    for img_path in images:\n",
    "        try:\n",
    "            with Image.open(img_path) as img:\n",
    "                format = img.format\n",
    "                width, height  = img.size\n",
    "        except Exception as e:\n",
    "            print(f\"Failed to read image {img_path.name}: {e}\")\n",
    "            continue\n",
    "\n",
    "        data.append({\n",
    "              'Image_name' : img_path.stem,\n",
    "              'Folder' : img_folder.name,\n",
    "              'Absolute_path' : str(img_path.resolve()),\n",
    "              'Format' : format,\n",
    "              'Width' : width,\n",
    "              'Height': height,\n",
    "              'Image_size' : width*height\n",
    "        })\n",
    "        \n",
    "    # Create a DataFrame from the image data list\n",
    "    df = pd.DataFrame(data)\n",
    "    \n",
    "    # Save DataFrame to a CSV file\n",
    "    csv_filename = img_folder / f\"{project_name}_data.csv\"\n",
    "    df.to_csv(csv_filename, sep=';', index=False)\n",
    "    \n",
    "    print(f\"Image data saved to {csv_filename}\")"
   ]
  },
  {
   "cell_type": "markdown",
   "id": "57257f8e-e690-4eaa-b1dc-b6ffcde04c6e",
   "metadata": {},
   "source": [
    "### Create txt files for data"
   ]
  },
  {
   "cell_type": "markdown",
   "id": "eb5a4cbc-a1c1-4076-8f7e-2db4d7eb3d3f",
   "metadata": {},
   "source": [
    "#### Create the labels file in txt format"
   ]
  },
  {
   "cell_type": "code",
   "execution_count": 3,
   "id": "14348625-1cb0-40fb-856c-e38241a960df",
   "metadata": {
    "editable": true,
    "slideshow": {
     "slide_type": ""
    },
    "tags": []
   },
   "outputs": [],
   "source": [
    "def create_labels_file(project_folder:str) -> None:\n",
    "    \"\"\"\n",
    "    Creates a labels.txt file containing all unique class labels found in the annotation JSON files.\n",
    "    \n",
    "    :param project_folder: \n",
    "        - Type: str\n",
    "        - Description: The absolute path to the folder named after the project. This folder should contain \n",
    "                       the annotation files, which are used to extract the class labels.\n",
    "\n",
    "    :return: \n",
    "        - Type: None\n",
    "        - Description: This function does not return a value. It creates a text file named 'labels.txt' \n",
    "                       in the project folder's image subdirectory.\n",
    "    \n",
    "    The resulting text file (`labels.txt`) is saved in the image folder of the project directory, \n",
    "    and can be used for further reference during model training or evaluation.\n",
    "    \"\"\"\n",
    "\n",
    "    data_folder = Path(get_data_folder(project_folder))\n",
    "    data_folder.mkdir(parents=True, exist_ok=True)\n",
    "    \n",
    "    annotation_folder = Path(get_ground_truth_folder_training(project_folder))\n",
    "    labels_file = data_folder / 'labels.txt'\n",
    "    \n",
    "    annotation_files = [file for file in annotation_folder.iterdir() if not file.name.startswith('.')]\n",
    "    \n",
    "    unique_classes = set()\n",
    "    \n",
    "    for annotation_file in annotation_files:\n",
    "        annotations = open_json_file(annotation_file)\n",
    "        \n",
    "        for i, result in enumerate(annotations['result']):\n",
    "            value = result['value']\n",
    "            label = value['rectanglelabels'][0]\n",
    "            \n",
    "            unique_classes.add(label)\n",
    "\n",
    "    classes = list(unique_classes)\n",
    "    print(classes)\n",
    "\n",
    "    with open(labels_file, 'w', encoding='utf-8') as file:\n",
    "        for index, classe in enumerate(classes):\n",
    "            file.write(f\"'{index}': '{classe}'\\n\")\n",
    "    \n",
    "    print(f\"Labels file written in {labels_file} \")"
   ]
  },
  {
   "cell_type": "markdown",
   "id": "a66bb008-193d-4fc2-8199-e385c08cab44",
   "metadata": {},
   "source": [
    "#### Create the annotations files in txt format"
   ]
  },
  {
   "cell_type": "code",
   "execution_count": 4,
   "id": "5ac67b66-4735-4da6-9d6f-1192d60323d7",
   "metadata": {},
   "outputs": [],
   "source": [
    "def create_annotations_file(project_folder:str) -> None:\n",
    "    \"\"\"\n",
    "    Converts JSON annotations into YOLO format and saves them as .txt files.\n",
    "\n",
    "    Parameters\n",
    "    ----------\n",
    "    project_folder : str\n",
    "        Absolute path to the project folder containing image and annotation data.\n",
    "\n",
    "    Returns\n",
    "    -------\n",
    "    None\n",
    "        Creates one YOLO-format .txt file per image in the 'labels' subdirectory.\n",
    "\n",
    "    Notes\n",
    "    -----\n",
    "    - Requires a 'labels.txt' file to map class names to IDs.\n",
    "    - Output files are named <image_name>.txt and stored in the 'labels' folder.\n",
    "    - Each line in the output file represents a bounding box in YOLO format.\n",
    "    \"\"\"\n",
    "    \n",
    "    annotation_folder_ground_truth = Path(get_ground_truth_folder_training(project_folder))\n",
    "    data_folder = Path(get_data_folder(project_folder))\n",
    "    \n",
    "    labels_folder = data_folder / 'labels'\n",
    "    labels_folder.mkdir(parents=True, exist_ok=True)\n",
    "\n",
    "    labels_file = data_folder / 'labels.txt'\n",
    "    if not labels_file.exists():\n",
    "        raise FileNotFoundError(f\"'labels.txt' not found at {labels_file}\")\n",
    "    \n",
    "    # Get the classes of the dataset from the labels file created with create_labels_file\n",
    "    labels = get_labels(str(labels_file))\n",
    "    \n",
    "    # Get a list of the annotation files\n",
    "    annotation_files = [file for file in annotation_folder_ground_truth.iterdir() if not file.name.startswith('.')]\n",
    "        \n",
    "    for annotation_file in annotation_files:\n",
    "        annotations = open_json_file(annotation_file)\n",
    "\n",
    "        # Get the name of the image\n",
    "        img_path = annotations['task']['data']['image']\n",
    "        img_name = Path(img_path).stem\n",
    "        \n",
    "        with open(labels_folder / f\"{img_name}.txt\", 'w') as yolo_annotation:\n",
    "            for result in annotations['result']:\n",
    "                value = result['value']\n",
    "                x, y, w, h = from_ls_to_yolo(value['x'], value['y'], value['width'], value['height'])\n",
    "                classe_name = value['rectanglelabels'][0]\n",
    "                classe_id = get_class_code(classe_name, labels)\n",
    "\n",
    "                yolo_annotation.write(f\"{classe_id} {x} {y} {w} {h}\\n\")\n",
    "    \n",
    "    print(f\"Annotations successfully converted and saved\")"
   ]
  },
  {
   "cell_type": "markdown",
   "id": "5e8ecc0b",
   "metadata": {},
   "source": [
    "#### Clean the classes file if the project was manually downloaded from Label Studio."
   ]
  },
  {
   "cell_type": "code",
   "execution_count": 5,
   "id": "32a452ff",
   "metadata": {},
   "outputs": [],
   "source": [
    "def clean_classes_file(project_folder:str) -> None:\n",
    "    \"\"\"\n",
    "    Cleans and converts a 'classes.txt' file into a YOLO-style 'labels.txt' format.\n",
    "\n",
    "    Parameters\n",
    "    ----------\n",
    "    project_folder : str\n",
    "        Path to the project folder containing the 'classes.txt' file.\n",
    "\n",
    "    The resulting 'labels.txt' will contain each class with its corresponding index, e.g.:\n",
    "    '0': 'car'\n",
    "    '1': 'person'\n",
    "    \"\"\"\n",
    "    project_folder = Path(project_folder)\n",
    "    classes_txt_path = project_folder / 'classes.txt'\n",
    "    labels_txt_path = project_folder / 'labels.txt'\n",
    "\n",
    "    try:\n",
    "        # Read class names from classes.txt\n",
    "        with open(classes_txt_path, 'r') as f:\n",
    "            classes = [line.strip() for line in f if line.strip()]\n",
    "\n",
    "        # Write cleaned content to labels.txt\n",
    "        with open(labels_txt_path, 'w') as f:\n",
    "            for i, class_name in enumerate(classes):\n",
    "                f.write(f\"'{i}': '{class_name}'\\n\")\n",
    "\n",
    "        # Remove the original classes.txt\n",
    "        classes_txt_path.unlink()\n",
    "        print(f\"Labels file written and renamed to : {labels_txt_path}\")\n",
    "\n",
    "    except Exception as e:\n",
    "        print(f\"There was a probleme loading the classes file :\\n{e}\")"
   ]
  },
  {
   "cell_type": "markdown",
   "id": "a387cdf7-4c83-4b81-91af-2380d9f98baf",
   "metadata": {},
   "source": [
    "#### Get the data in the training folder"
   ]
  },
  {
   "cell_type": "code",
   "execution_count": 6,
   "id": "ff4efec8-ff26-4208-954e-39b421a7c45c",
   "metadata": {},
   "outputs": [],
   "source": [
    "def get_img_training_data(project_folder:str) -> None:\n",
    "    \"\"\"\n",
    "    Copies ground truth images into the training folder under an 'images' subdirectory.\n",
    "\n",
    "    Parameters\n",
    "    ----------\n",
    "    project_folder : str\n",
    "        Absolute path to the project folder containing the ground truth images.\n",
    "\n",
    "    Returns\n",
    "    -------\n",
    "    None\n",
    "        Images are copied into the training folder under 'images/'.\n",
    "    \"\"\"\n",
    "    data_folder = Path(get_data_folder(project_folder))\n",
    "    data_folder.mkdir(parents=True, exist_ok=True)\n",
    "\n",
    "    img_folder = data_folder / 'images'\n",
    "    img_folder.mkdir(parents=True, exist_ok=True)\n",
    "    \n",
    "    img_folder_training = Path(get_img_folder_training(project_folder))\n",
    "    if not img_folder_training.exists() or not img_folder_training.is_dir():\n",
    "        raise NotADirectoryError(f\"Can't find the ground truth image folder: {img_folder_training}\")\n",
    "    \n",
    "    img_exts = {'.jpg', '.jpeg', '.png', '.tiff'}\n",
    "    img_files = [img for img in img_folder_training.iterdir() if img.suffix.lower()in img_exts and not img.name.startswith('.')]\n",
    "    \n",
    "    for img_path in img_files:\n",
    "        shutil.copy2(img_path, img_folder /img_path.name)\n",
    "\n",
    "    print(f\"Images copied in {img_folder}\")"
   ]
  },
  {
   "cell_type": "code",
   "execution_count": 7,
   "id": "bc1e5aba",
   "metadata": {},
   "outputs": [],
   "source": [
    "def create_dataset(project_folder, manually_downloaded):\n",
    "    \"\"\"\n",
    "    Prepares a dataset for training by organizing files and generating required metadata.\n",
    "\n",
    "    Parameters\n",
    "    ----------\n",
    "    project_folder : str\n",
    "        Path to the project directory containing 'classes.txt' and an 'images' subfolder.\n",
    "\n",
    "    manually_downloaded : bool\n",
    "        If True, processes a manually downloaded dataset:\n",
    "        - Cleans and formats 'classes.txt'.\n",
    "        - Copies image files into the project structure.\n",
    "        - Generates a CSV file from the image data.\n",
    "\n",
    "        If False, assumes the project is structured and runs the full pipeline:\n",
    "        - create_csv_file\n",
    "        - create_labels_file\n",
    "        - create_annotations_file\n",
    "        - get_img_training_data\n",
    "\n",
    "    Returns\n",
    "    -------\n",
    "    None\n",
    "    \"\"\"\n",
    "    \n",
    "    data_folder = Path(get_data_folder(project_folder))\n",
    "\n",
    "    if manually_downloaded:\n",
    "        project_name = Path(project_folder).name\n",
    "        image_folder = data_folder / 'images'\n",
    "        labels_folder = data_folder / 'labels'\n",
    "        labels_file = data_folder / 'labels.txt'\n",
    "    \n",
    "        clean_classes_file(project_folder)\n",
    "\n",
    "        # Validation: folders and files must exist\n",
    "        if not data_folder.exists():\n",
    "            print(f\"[ERREUR] Data folder doesn't exist: {data_folder}\")\n",
    "            return\n",
    "\n",
    "        if not image_folder.exists():\n",
    "            print(f\"[ERREUR] Image folder doesn't exist: {image_folder}\")\n",
    "            return\n",
    "        \n",
    "        if not labels_folder.exists():\n",
    "            print(f\"[ERREUR] Labels folder doesn't exist: {labels_folder}\")\n",
    "            return\n",
    "\n",
    "        if not labels_file.exists():\n",
    "            print(f\"[ERREUR] Labels file doesn't exist: {labels_file}\")\n",
    "            return\n",
    "\n",
    "        # Path to ground truth image folder\n",
    "        ground_truth_folder_training = Path(get_img_folder_training(project_folder))\n",
    "        ground_truth_folder_training.mkdir(parents=True, exist_ok=True)\n",
    "\n",
    "        # Copy images from project_folder/images\n",
    "        for file_path in image_folder.iterdir():\n",
    "            if file_path.is_file():\n",
    "                shutil.copy2(file_path, ground_truth_folder_training / file_path.name)\n",
    "\n",
    "        create_csv_file(project_name)\n",
    "\n",
    "    else:\n",
    "        data_folder.mkdir(parents=True, exist_ok=True)\n",
    "        print(f\"Data will be stored in {data_folder}\")\n",
    "\n",
    "        \n",
    "        create_csv_file(project_folder)\n",
    "        create_labels_file(project_folder)\n",
    "        create_annotations_file(project_folder)\n",
    "        get_img_training_data(project_folder)"
   ]
  },
  {
   "cell_type": "markdown",
   "id": "f9e0ffe7-357e-487d-803a-2560c8e71e20",
   "metadata": {},
   "source": [
    "## Processing"
   ]
  },
  {
   "cell_type": "code",
   "execution_count": 8,
   "id": "d5a02008-b250-4421-a268-ef84cb18e55b",
   "metadata": {
    "editable": true,
    "slideshow": {
     "slide_type": ""
    },
    "tags": []
   },
   "outputs": [],
   "source": [
    "project_folder = 'PROJECT_DIR'"
   ]
  },
  {
   "cell_type": "code",
   "execution_count": null,
   "id": "aa669db1-3efd-4450-bae3-494a930bf5ba",
   "metadata": {
    "editable": true,
    "slideshow": {
     "slide_type": ""
    },
    "tags": []
   },
   "outputs": [],
   "source": [
    "# Create the training folder\n",
    "create_dataset(project_folder, manually_downloaded=False)"
   ]
  }
 ],
 "metadata": {
  "kernelspec": {
   "display_name": "tiamat_env",
   "language": "python",
   "name": "tiamat_env"
  },
  "language_info": {
   "codemirror_mode": {
    "name": "ipython",
    "version": 3
   },
   "file_extension": ".py",
   "mimetype": "text/x-python",
   "name": "python",
   "nbconvert_exporter": "python",
   "pygments_lexer": "ipython3",
   "version": "3.8.0"
  }
 },
 "nbformat": 4,
 "nbformat_minor": 5
}
