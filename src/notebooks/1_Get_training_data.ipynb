{
 "cells": [
  {
   "cell_type": "markdown",
   "id": "dbc6b497-9e7f-413e-b818-aeba455c311d",
   "metadata": {
    "editable": true,
    "slideshow": {
     "slide_type": ""
    },
    "tags": []
   },
   "source": [
    "# Extracting Annotated Training Data"
   ]
  },
  {
   "cell_type": "markdown",
   "id": "0317f586-8b9f-47cb-b1aa-5f9da9654683",
   "metadata": {},
   "source": [
    "This notebook is the first step in preparing your dataset for model training.\n",
    "\n",
    "It processes Label Studio JSON exports to build a YOLO-compatible training folder with:\n",
    "- `images/` – containing **only** annotated images\n",
    "- `labels/` – YOLO-format `.txt` files\n",
    "- `labels.txt` – listing **only used** annotation classes\n",
    "\n",
    "📂 **This notebook expects**:\n",
    "- JSON annotations exported from Label Studio\n",
    "- A valid `project/` folder structure as described in the [README](../../README.md)\n",
    "\n",
    "It will generate a YOLO-formatted training dataset under `data/`, based on the project name.\n",
    "\n",
    "---\n",
    "\n",
    "&copy; 2023 Marion Charpier — use of this notebook requires appropriate citation."
   ]
  },
  {
   "cell_type": "markdown",
   "id": "850d73b4-471b-4701-a9dc-cd98e1e17f30",
   "metadata": {},
   "source": [
    "## Environment"
   ]
  },
  {
   "cell_type": "code",
   "execution_count": 23,
   "id": "1c48360d-0625-465d-9aec-8220958d4607",
   "metadata": {},
   "outputs": [],
   "source": [
    "import os\n",
    "import json\n",
    "import shutil\n",
    "\n",
    "import pandas as pd\n",
    "from PIL import Image\n",
    "\n",
    "import sys\n",
    "sys.path.append(os.path.join('..', 'modules'))\n",
    "\n",
    "from transform_coordinates_functions import from_ls_to_yolo\n",
    "from class_names_functions import get_labels, get_class_code\n",
    "from folders_path import img_folder_training, ground_truth_folder_training, get_data_folder\n",
    "from manipulate_files import open_json_file"
   ]
  },
  {
   "cell_type": "markdown",
   "id": "5b5fe2fb-9a1c-40c9-9646-f8c554b3a9f8",
   "metadata": {},
   "source": [
    "## Functions"
   ]
  },
  {
   "cell_type": "markdown",
   "id": "e5b1b31e-4cf8-4016-9178-29e7a2b3cbfb",
   "metadata": {},
   "source": [
    "### Create a csv file with images data"
   ]
  },
  {
   "cell_type": "code",
   "execution_count": 24,
   "id": "4f9912e1-6c70-4252-b0d0-6eb4714f0171",
   "metadata": {
    "editable": true,
    "slideshow": {
     "slide_type": ""
    },
    "tags": []
   },
   "outputs": [],
   "source": [
    "def create_csv_file(project_folder):\n",
    "    \"\"\"\n",
    "    This function generates a CSV file containing metadata for each image in a specified project folder.\n",
    "    It extracts relevant information such as image dimensions, format, and file paths. The resulting CSV \n",
    "    is designed for use in annotation processes or to facilitate analysis of training or inference sessions.\n",
    "\n",
    "    :param project_folder: \n",
    "        - Type: str\n",
    "        - Description: The absolute path to the folder named after the project. It should contain the images \n",
    "                       whose metadata needs to be extracted and stored.\n",
    "    \n",
    "    :return: \n",
    "        - Type: None\n",
    "        - Description: This function does not return a value. It saves the extracted image metadata as a CSV \n",
    "                       file in the project folder.\n",
    "    \n",
    "    Metadata Extracted for Each Image:\n",
    "        - 'Image_name': \n",
    "            - Type: str\n",
    "            - Description: The name of the image file without its extension (e.g., 'image1' for 'image1.jpg').\n",
    "        \n",
    "        - 'Folder': \n",
    "            - Type: str\n",
    "            - Description: The path to the folder where the images are stored.\n",
    "        \n",
    "        - 'Absolute_path': \n",
    "            - Type: str\n",
    "            - Description: The absolute path to the image file on disk.\n",
    "        \n",
    "        - 'Format': \n",
    "            - Type: str\n",
    "            - Description: The format of the image (e.g., JPEG, PNG).\n",
    "        \n",
    "        - 'Width': \n",
    "            - Type: int\n",
    "            - Description: The width of the image in pixels.\n",
    "        \n",
    "        - 'Height': \n",
    "            - Type: int\n",
    "            - Description: The height of the image in pixels.\n",
    "        \n",
    "        - 'Image_size': \n",
    "            - Type: int\n",
    "            - Description: The total size of the image in pixels (Width x Height).\n",
    "\n",
    "    The CSV file is saved in the image folder with the name format '<project_folder>_data.csv'.\n",
    "    \"\"\"\n",
    "    \n",
    "    data = []\n",
    "\n",
    "    img_folder = img_folder_training(project_folder)\n",
    "    \n",
    "    images = [img for img in os.listdir(img_folder) if img.lower().endswith(('jpg', 'png', 'tiff'))]\n",
    "\n",
    "    # Retrieve the size for each image and save the relevant information in a dictionary\n",
    "    for file in images:\n",
    "        img_name = '.'.join(file.split('.')[:-1])\n",
    "        folder = img_folder\n",
    "        with Image.open(os.path.join(img_folder, file)) as img:\n",
    "            absolute_path = img.filename\n",
    "            format = img.format\n",
    "            width, height  = img.size\n",
    "            img_size = width*height\n",
    "\n",
    "        img_data = {\n",
    "              'Image_name' : img_name,\n",
    "              'Folder' : folder,\n",
    "              'Absolute_path' : absolute_path,\n",
    "              'Format' : format,\n",
    "              'Width' : width,\n",
    "              'Height': height,\n",
    "              'Image_size' : img_size\n",
    "        }\n",
    "\n",
    "        data.append(img_data)\n",
    "        \n",
    "    # Create a DataFrame from the image data list\n",
    "    df = pd.DataFrame(data)\n",
    "    \n",
    "    # Save DataFrame to a CSV file\n",
    "    csv_filename = os.path.join(img_folder, os.path.basename(project_folder) + '_data.csv')\n",
    "    df.to_csv(csv_filename, sep=';', index=False)\n",
    "    \n",
    "    print(f\"Image data saved to {csv_filename}\")"
   ]
  },
  {
   "cell_type": "markdown",
   "id": "57257f8e-e690-4eaa-b1dc-b6ffcde04c6e",
   "metadata": {},
   "source": [
    "### Create txt files for data"
   ]
  },
  {
   "cell_type": "markdown",
   "id": "eb5a4cbc-a1c1-4076-8f7e-2db4d7eb3d3f",
   "metadata": {},
   "source": [
    "#### Create the labels file in txt format"
   ]
  },
  {
   "cell_type": "code",
   "execution_count": 25,
   "id": "14348625-1cb0-40fb-856c-e38241a960df",
   "metadata": {
    "editable": true,
    "slideshow": {
     "slide_type": ""
    },
    "tags": []
   },
   "outputs": [],
   "source": [
    "def create_labels_file(project_folder):\n",
    "\n",
    "    \"\"\"\n",
    "    This function generates a text file containing the unique class labels from the annotations \n",
    "    present in the project folder. The labels file can be used to map class indices to their \n",
    "    corresponding labels for training or evaluation purposes.\n",
    "    \n",
    "    :param project_folder: \n",
    "        - Type: str\n",
    "        - Description: The absolute path to the folder named after the project. This folder should contain \n",
    "                       the annotation files, which are used to extract the class labels.\n",
    "\n",
    "    :return: \n",
    "        - Type: None\n",
    "        - Description: This function does not return a value. It creates a text file named 'labels.txt' \n",
    "                       in the project folder's image subdirectory.\n",
    "    \n",
    "    The resulting text file (`labels.txt`) is saved in the image folder of the project directory, \n",
    "    and can be used for further reference during model training or evaluation.\n",
    "    \"\"\"\n",
    "\n",
    "    img_folder = img_folder_training(project_folder)\n",
    "    annotation_folder = ground_truth_folder_training(project_folder)\n",
    "    \n",
    "    annotation_files = [file for file in os.listdir(annotation_folder) if not file.startswith('.')]\n",
    "    \n",
    "    unique_classes = set()\n",
    "    \n",
    "    for annotation_file in annotation_files:\n",
    "        annotations = open_json_file(os.path.join(annotation_folder, annotation_file))\n",
    "        \n",
    "        for i, result in enumerate(annotations['result']):\n",
    "            value = result['value']\n",
    "            label = value['rectanglelabels'][0]\n",
    "            \n",
    "            unique_classes.add(label)\n",
    "\n",
    "    classes = list(unique_classes)\n",
    "    print(classes)\n",
    "\n",
    "    with open(os.path.join(img_folder, 'labels.txt'), 'w') as labels_file:\n",
    "        for index, classe in enumerate(classes):\n",
    "            labels_file.write(f\"'{index}': '{classe}'\\n\")\n",
    "    \n",
    "    print(f\"Labels file write in {os.path.join(img_folder, 'labels.txt')} \")"
   ]
  },
  {
   "cell_type": "markdown",
   "id": "a66bb008-193d-4fc2-8199-e385c08cab44",
   "metadata": {},
   "source": [
    "#### Create the annotations files in txt format"
   ]
  },
  {
   "cell_type": "code",
   "execution_count": 26,
   "id": "5ac67b66-4735-4da6-9d6f-1192d60323d7",
   "metadata": {},
   "outputs": [],
   "source": [
    "def create_annotations_file(project_folder):\n",
    "    \"\"\"\n",
    "    This function generates annotation files for each image in the dataset, converting annotations into \n",
    "    the YOLO format. It reads annotation data from JSON files and outputs individual text files containing \n",
    "    bounding box information for each image. These files are saved in a 'labels' subdirectory within the \n",
    "    project folder's image directory.\n",
    "\n",
    "    :param project_folder: \n",
    "        - Type: str\n",
    "        - Description: The absolute path to the folder named after the project. The folder should contain \n",
    "                       the images and annotation files that need to be processed.\n",
    "    \n",
    "    :return: \n",
    "        - Type: None\n",
    "        - Description: This function does not return a value. It creates and saves annotation files \n",
    "                       in the YOLO format for each image in the project.\n",
    "\n",
    "\n",
    "    This file format is compatible with YOLO-based object detection frameworks, allowing seamless integration \n",
    "    for model training and inference.\n",
    "\n",
    "    The resulting annotation files are saved as `<image_name>.txt` in the 'labels' folder.\n",
    "    \"\"\"\n",
    "\n",
    "    img_folder = img_folder_training(project_folder)\n",
    "    annotation_folder = ground_truth_folder_training(project_folder)\n",
    "    \n",
    "    # If not exists, create the folder for the labels file\n",
    "    os.makedirs(os.path.join(img_folder, 'labels'), exist_ok = True)\n",
    "    \n",
    "    # Get the classes of the dataset from the labels file created with create_labels_file\n",
    "    labels = get_labels(os.path.join(img_folder, 'labels.txt'))\n",
    "    print(labels)\n",
    "    \n",
    "    # Get a list of the annotation files\n",
    "    annotation_files = [file for file in os.listdir(annotation_folder) if not file.startswith('.')]\n",
    "        \n",
    "    for annotation_file in annotation_files:\n",
    "        annotations = open_json_file(os.path.join(annotation_folder, annotation_file))\n",
    "\n",
    "        # Get the name of the image\n",
    "        name = annotations['task']['data']['image']\n",
    "        img_name = os.path.basename(name).split('.')[0]\n",
    "        \n",
    "        with open(os.path.join(img_folder, 'labels', img_name + '.txt'), 'w') as yolo_annotation:\n",
    "            for i, result in enumerate(annotations['result']):\n",
    "                value = result['value']\n",
    "                x, y, w, h = from_ls_to_yolo(value['x'], value['y'], value['width'], value['height'])\n",
    "                classe_name = value['rectanglelabels'][0]\n",
    "                classe_id = get_class_code(classe_name, labels)\n",
    "\n",
    "                yolo_annotation.write(f\"{classe_id} {x} {y} {w} {h}\\n\")\n",
    "    \n",
    "    print(f\"Annotations succeffully converted and saved\")"
   ]
  },
  {
   "cell_type": "markdown",
   "id": "944283c1-e84d-44c1-83e9-e0a82e07102b",
   "metadata": {},
   "source": [
    "#### Create the folder for the training session"
   ]
  },
  {
   "cell_type": "code",
   "execution_count": 27,
   "id": "a928e59d-f04c-48cb-b94e-ce4d18265cc7",
   "metadata": {},
   "outputs": [],
   "source": [
    "def create_training_folder(project_folder, data_folder):\n",
    "    \"\"\"\n",
    "    This function creates a dedicated folder for storing training data within a specified directory. \n",
    "    If a folder with the same name as the project already exists, a new folder is created with a unique numeric suffix to prevent overwriting.\n",
    "\n",
    "    :param project_folder: \n",
    "        - Type: str\n",
    "        - Description: The absolute path to the project folder. The basename of this path will be used \n",
    "                       to name the new training folder.\n",
    "    \n",
    "    :param data_folder: \n",
    "        - Type: str\n",
    "        - Description: The absolute path to the directory where all project-related data is stored. \n",
    "                       The training folder will be created within this directory.\n",
    "    \n",
    "    :return: \n",
    "        - Type: str\n",
    "        - Description: Returns the absolute path of the created training folder. This path can be used \n",
    "                       for further processing and data management.\n",
    "\n",
    "    This function ensures that training data is organized without overwriting or losing previous project data.\n",
    "    \"\"\"\n",
    "\n",
    "    training_folder = os.path.join(data_folder, os.path.basename(project_folder))\n",
    "    \n",
    "    # If not exists, create the folder for the training data\n",
    "    if not os.path.exists(training_folder):\n",
    "        os.makedirs(training_folder)\n",
    "        print(f'folder created {training_folder}')\n",
    "        return training_folder\n",
    "      \n",
    "    # If a folder with the same name already exits, create a new one with the same name and a number\n",
    "    i = 1\n",
    "    while True:\n",
    "        new_training_folder = f'{training_folder}_{i}'\n",
    "        if not os.path.exists(new_training_folder):\n",
    "            os.makedirs(new_training_folder)\n",
    "\n",
    "            print(f'folder created {new_training_folder}')\n",
    "            return new_training_folder\n",
    "        i += 1"
   ]
  },
  {
   "cell_type": "markdown",
   "id": "a387cdf7-4c83-4b81-91af-2380d9f98baf",
   "metadata": {},
   "source": [
    "#### Get the data in the training folder"
   ]
  },
  {
   "cell_type": "code",
   "execution_count": 28,
   "id": "ff4efec8-ff26-4208-954e-39b421a7c45c",
   "metadata": {},
   "outputs": [],
   "source": [
    "def get_training_data(project_folder):\n",
    "    \"\"\"\n",
    "    This function prepares and organizes the training data by copying the annotated images and their corresponding labels into a new training folder. \n",
    "    It ensures that the images are stored in an 'images' subdirectory and the annotations in a 'labels' subdirectory within the newly created training folder.\n",
    "\n",
    "    :param project_folder: \n",
    "        - Type: str\n",
    "        - Description: The absolute path to the project folder containing the images and annotations \n",
    "                       to be used for training.\n",
    "\n",
    "    :param data_folder: \n",
    "        - Type: str\n",
    "        - Description: The absolute path to the base folder where all project-related data is stored. \n",
    "                       The training folder will be created within this directory.\n",
    "    \n",
    "    :return: \n",
    "        - Type: None\n",
    "        - Description: This function does not return a value. It copies and organizes the training data \n",
    "                       within a new training folder and moves the necessary label files.\n",
    "\n",
    "    This structure is compatible with various object detection frameworks and can be used directly for training a model. \n",
    "    The function ensures that only the annotated images and their labels are moved, making it easier to work with clean and organized data.\n",
    "    \"\"\"\n",
    "\n",
    "    img_folder = img_folder_training(project_folder)\n",
    "    annotation_folder = ground_truth_folder_training(project_folder)\n",
    "    \n",
    "    # If not exists, create the data folder \n",
    "    data_folder = get_data_folder(project_folder)\n",
    "    os.makedirs(data_folder, exist_ok=True)\n",
    "\n",
    "    # Create the folders in which training data have to be stored\n",
    "    training_folder = create_training_folder(project_folder, data_folder)\n",
    "\n",
    "    # Get the list of annotations\n",
    "    annotation_files = [file for file in os.listdir(annotation_folder) if not file.startswith('.')]\n",
    "    # print(len(annotation_files))\n",
    "\n",
    "    # Get a list of annotated images\n",
    "    annotated_img = []\n",
    "            \n",
    "    for annotation_file in annotation_files:\n",
    "        annotations = open_json_file(os.path.join(annotation_folder, annotation_file))\n",
    "    \n",
    "        # Get the name of the image\n",
    "        annotated_img.append(annotations['task']['data']['image'].split('/')[-1])\n",
    "    \n",
    "    # Move the annotated images in a 'images' folder, if not exists created it\n",
    "    os.makedirs(os.path.join(training_folder, 'images'), exist_ok = True)\n",
    "\n",
    "    for img in annotated_img:\n",
    "        shutil.copyfile(os.path.join(img_folder, img), os.path.join(training_folder, 'images', img))\n",
    "\n",
    "    print(f\"Images copied in {os.path.join(training_folder, 'images')}\")\n",
    "\n",
    "    # Move the labels folder in the training folder\n",
    "    shutil.move(os.path.join(img_folder, 'labels'), os.path.join(training_folder, 'labels'))\n",
    "    print(f\"Labels folder moved to {os.path.join(training_folder, 'labels')}\")\n",
    "\n",
    "    # Move the labels file in the training folder\n",
    "    shutil.move(os.path.join(img_folder, 'labels.txt'), os.path.join(training_folder, 'labels.txt'))\n",
    "    print(f\"Labels file moved in {os.path.join(training_folder, 'labels.txt')}\")"
   ]
  },
  {
   "cell_type": "markdown",
   "id": "f9e0ffe7-357e-487d-803a-2560c8e71e20",
   "metadata": {},
   "source": [
    "## Processing"
   ]
  },
  {
   "cell_type": "code",
   "execution_count": null,
   "id": "d5a02008-b250-4421-a268-ef84cb18e55b",
   "metadata": {
    "editable": true,
    "slideshow": {
     "slide_type": ""
    },
    "tags": []
   },
   "outputs": [],
   "source": [
    "project_folder = 'PROJECT_DIR'"
   ]
  },
  {
   "cell_type": "code",
   "execution_count": null,
   "id": "47956c53-f3fa-4d69-bd63-7091d1652bb9",
   "metadata": {},
   "outputs": [],
   "source": [
    "# Create a CSV file with data and metadata\n",
    "create_csv_file(project_folder)"
   ]
  },
  {
   "cell_type": "code",
   "execution_count": null,
   "id": "0579cd0b-cb6c-49b7-ba7d-eb7dc91c7b87",
   "metadata": {},
   "outputs": [],
   "source": [
    "# Create a text file with all the annotated classes\n",
    "create_labels_file(project_folder)"
   ]
  },
  {
   "cell_type": "code",
   "execution_count": null,
   "id": "dd90a70a-e5aa-44af-89de-6a8b0b9aff18",
   "metadata": {
    "editable": true,
    "slideshow": {
     "slide_type": ""
    },
    "tags": []
   },
   "outputs": [],
   "source": [
    "# Create label files in text format for YOLO from Label Studio format\n",
    "create_annotations_file(project_folder)"
   ]
  },
  {
   "cell_type": "code",
   "execution_count": null,
   "id": "aa669db1-3efd-4450-bae3-494a930bf5ba",
   "metadata": {
    "editable": true,
    "slideshow": {
     "slide_type": ""
    },
    "tags": []
   },
   "outputs": [],
   "source": [
    "# Create the training folder\n",
    "get_training_data(project_folder)"
   ]
  }
 ],
 "metadata": {
  "kernelspec": {
   "display_name": "tiamat_env",
   "language": "python",
   "name": "tiamat_env"
  },
  "language_info": {
   "codemirror_mode": {
    "name": "ipython",
    "version": 3
   },
   "file_extension": ".py",
   "mimetype": "text/x-python",
   "name": "python",
   "nbconvert_exporter": "python",
   "pygments_lexer": "ipython3",
   "version": "3.8.0"
  }
 },
 "nbformat": 4,
 "nbformat_minor": 5
}
