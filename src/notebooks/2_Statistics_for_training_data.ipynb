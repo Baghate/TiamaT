{
 "cells": [
  {
   "cell_type": "markdown",
   "id": "ada43278",
   "metadata": {},
   "source": [
    "# Descriptive Statistics for YOLO Training Dataset"
   ]
  },
  {
   "cell_type": "markdown",
   "id": "16237a77-065d-42f1-b829-90e794f4b56b",
   "metadata": {
    "editable": true,
    "slideshow": {
     "slide_type": ""
    },
    "tags": []
   },
   "source": [
    "This notebook provides visual and quantitative insights into your training dataset.\n",
    "\n",
    "It processes image and label files (with matching names) from two folders:\n",
    "- `images/` – contains input images\n",
    "- `labels/` – contains YOLO-format `.txt` files\n",
    "\n",
    "📌 **Requirement**: A `labels.txt` file listing annotation classes like:\n",
    "\n",
    "```python\n",
    "'0': 'class_name0',\n",
    "'1': 'class_name1',\n",
    "'2': 'class_name2'\n",
    "```\n",
    "These statistics help assess label coverage and dataset consistency prior to training.\n",
    "\n",
    "\n",
    "&copy; 2023 Marion Charpier — use of this notebook requires appropriate citation."
   ]
  },
  {
   "cell_type": "markdown",
   "id": "c322992a-b401-46ff-b75b-435957785c5e",
   "metadata": {},
   "source": [
    "## Environment"
   ]
  },
  {
   "cell_type": "code",
   "execution_count": 37,
   "id": "42d83b79-9458-4571-b5f8-fcf17b241f0d",
   "metadata": {
    "editable": true,
    "slideshow": {
     "slide_type": ""
    },
    "tags": []
   },
   "outputs": [],
   "source": [
    "import os\n",
    "import re\n",
    "import codecs\n",
    "import shutil\n",
    "\n",
    "import pandas as pd\n",
    "import matplotlib.pyplot as plt\n",
    "\n",
    "import sys\n",
    "sys.path.append(os.path.join('..', 'modules'))\n",
    "\n",
    "from class_names_functions import get_labels"
   ]
  },
  {
   "cell_type": "markdown",
   "id": "b39db708-9d42-489c-b221-e5f596ffc73c",
   "metadata": {},
   "source": [
    "## Functions"
   ]
  },
  {
   "cell_type": "markdown",
   "id": "be3a40e6-6037-492f-8964-a2973279c7c6",
   "metadata": {},
   "source": [
    "### Functions to create the folder for statistics results and the path to data folders"
   ]
  },
  {
   "cell_type": "code",
   "execution_count": 38,
   "id": "930f11d5-794b-4f73-b9eb-5e10aaac9c32",
   "metadata": {
    "tags": []
   },
   "outputs": [],
   "source": [
    "def create_stats_folder(training_folder):\n",
    "    \"\"\"\n",
    "    This function creates a subdirectory named 'dataset_statistics' within the specified training folder.\n",
    "    The folder is intended to store statistical data related to the dataset used during training, \n",
    "    such as data distribution, class frequencies, and other metrics that can provide insights into \n",
    "    the dataset composition and quality.\n",
    "\n",
    "    :param training_folder: \n",
    "        - Type: str\n",
    "        - Description: The absolute path to the training folder where the 'dataset_statistics' subdirectory \n",
    "                       will be created.\n",
    "\n",
    "    :return: \n",
    "        - Type: None\n",
    "        - Description: This function does not return a value. It creates a folder named 'dataset_statistics' \n",
    "                       within the specified `training_folder` if it does not already exist.\n",
    "\n",
    "    This ensures a dedicated space for storing dataset statistics, helping maintain an organized project structure.\n",
    "    \"\"\"\n",
    "    \n",
    "    if not os.path.exists(os.path.join(training_folder, 'dataset_statistics')):\n",
    "        os.mkdir(os.path.join(training_folder, 'dataset_statistics'))"
   ]
  },
  {
   "cell_type": "markdown",
   "id": "ecc7bb29-5157-4436-b96c-ac900a064b27",
   "metadata": {},
   "source": [
    "### Functions to describe the annotated sources"
   ]
  },
  {
   "cell_type": "markdown",
   "id": "38b523e0-4c14-4f86-a4a4-d68272ebbdea",
   "metadata": {
    "tags": []
   },
   "source": [
    "#### Clean up annotated data names with Label Studio"
   ]
  },
  {
   "cell_type": "code",
   "execution_count": 39,
   "id": "d5508177-a822-47a2-ae8b-1df177f15def",
   "metadata": {
    "tags": []
   },
   "outputs": [],
   "source": [
    "def clean_LS(training_folder, annotated_with_LS):\n",
    "    \"\"\"\n",
    "    This function renames files in the 'images' and 'labels' subdirectories of the specified training folder \n",
    "    by removing the prefix added by Label Studio (LS) during annotation. The prefix typically consists of \n",
    "    an 8-character alphanumeric string followed by a dash (e.g., 'abcd1234-').\n",
    "\n",
    "    :param training_folder: \n",
    "        - Type: str\n",
    "        - Description: The absolute path to the training folder containing the 'images' and 'labels' subdirectories.\n",
    "\n",
    "    :param annotated_with_LS: \n",
    "        - Type: bool\n",
    "        - Description: A boolean flag indicating whether the files were annotated using Label Studio. \n",
    "                       If `True`, the function will proceed with renaming the files to remove the LS prefix.\n",
    "\n",
    "    :return: \n",
    "        - Type: None\n",
    "        - Description: This function does not return a value. It modifies the filenames of the images and labels \n",
    "                       in place, making them compatible with the rest of the processing pipeline.\n",
    "    \"\"\"\n",
    "    \n",
    "    if annotated_with_LS:\n",
    "        img_folder = os.path.join(training_folder, 'images')\n",
    "        label_folder = os.path.join(training_folder, 'labels')\n",
    "\n",
    "        # Browse the files in the 'images' directory\n",
    "        for img_file in os.listdir(img_folder):\n",
    "            new_img_filename = img_file[9:]\n",
    "            new_img_filepath = os.path.join(img_folder, new_img_filename)\n",
    "            \n",
    "            os.rename(os.path.join(img_folder, img_file), new_img_filepath)\n",
    "            print(f\"Renamed image file : {img_file} -> {new_img_filename}\")\n",
    "\n",
    "        # Browse the files in the 'labels' directory\n",
    "        for label_file in os.listdir(label_folder):\n",
    "            new_label_filename = label_file[9:]\n",
    "            new_label_filepath = os.path.join(label_folder, new_label_filename)\n",
    "            \n",
    "            os.rename(os.path.join(label_folder, label_file), new_label_filepath)\n",
    "            print(f\"Renamed label file : {label_file} -> {new_label_filename}\")"
   ]
  },
  {
   "cell_type": "markdown",
   "id": "23d19f90-ffeb-4874-95c7-5adc8e70aa3a",
   "metadata": {},
   "source": [
    "###  Distribution of annotations"
   ]
  },
  {
   "cell_type": "markdown",
   "id": "33c114ad-ba0f-481b-ad17-eb41cf2eca25",
   "metadata": {},
   "source": [
    "#### Get the annotation files"
   ]
  },
  {
   "cell_type": "code",
   "execution_count": 40,
   "id": "17505847-276b-47c6-a42c-55792bdad21c",
   "metadata": {
    "editable": true,
    "slideshow": {
     "slide_type": ""
    },
    "tags": []
   },
   "outputs": [],
   "source": [
    "def get_annotation_files(img_folder, txt_folder):\n",
    "    \"\"\"\n",
    "    This function retrieves the list of '.txt' files containing the annotations corresponding to the \n",
    "    images stored in the specified image folder. It matches the annotation files with the image files \n",
    "    based on their names, ensuring that only annotations with a corresponding image are included.\n",
    "\n",
    "    :param img_folder: \n",
    "        - Type: str\n",
    "        - Description: The absolute path to the folder where the images are stored. The function will \n",
    "                       look for image files with extensions such as '.jpg', '.jpeg', or '.png'.\n",
    "\n",
    "    :param txt_folder: \n",
    "        - Type: str\n",
    "        - Description: The absolute path to the folder where the annotation files (`.txt` files) are stored.\n",
    "                       The function will look for annotation files that match the names of the images \n",
    "                       in the `img_folder`.\n",
    "\n",
    "    :return: \n",
    "        - Type: list of str\n",
    "        - Description: A list containing the absolute paths of all `.txt` annotation files that have a \n",
    "                       corresponding image in the `img_folder`.\n",
    "\n",
    "    This function is useful for ensuring that only annotations with corresponding images are used, \n",
    "    which is crucial for maintaining consistency between images and labels during model training.\n",
    "    \"\"\"\n",
    "    \n",
    "    image_extensions = (\".jpg\", \".jpeg\", \".png\")\n",
    "    image_files = [filename for filename in os.listdir(img_folder) if filename.endswith(image_extensions)]\n",
    "\n",
    "    annotation_files = []\n",
    "    \n",
    "    for image_file in image_files:\n",
    "        image_name, image_ext = os.path.splitext(image_file)\n",
    "        annotation_file = os.path.join(txt_folder, image_name + '.txt')\n",
    "        \n",
    "        if os.path.exists(annotation_file):\n",
    "            annotation_files.append(annotation_file)\n",
    "            \n",
    "    return annotation_files"
   ]
  },
  {
   "cell_type": "markdown",
   "id": "cba23b1e-8564-4a39-bdef-39d5c0bda9ed",
   "metadata": {},
   "source": [
    "#### Check that all annotation files are utf-8 encoded"
   ]
  },
  {
   "cell_type": "code",
   "execution_count": 41,
   "id": "33119baa-0060-4f8b-9bd7-a093494d2086",
   "metadata": {
    "tags": []
   },
   "outputs": [],
   "source": [
    "def encoding(training_folder):\n",
    "    \"\"\"\n",
    "    This function ensures that all annotation files within the specified training folder are encoded in UTF-8 format, \n",
    "    which is required for compatibility with the YOLOv8 model training process. If an annotation file is found to have \n",
    "    a different encoding (e.g., ISO-8859-1), the function identifies and logs it for further action.\n",
    "\n",
    "    :param training_folder: \n",
    "        - Type: str\n",
    "        - Description: The absolute path to the training folder containing the subdirectories 'images' and 'labels'.\n",
    "                       The function will process the annotation files stored in the 'labels' subdirectory.\n",
    "\n",
    "    :return: \n",
    "        - Type: None\n",
    "        - Description: This function does not return a value. It checks and logs the encoding of each annotation file \n",
    "                       to ensure they are in UTF-8 format.\n",
    "\n",
    "    This function helps ensure that all annotation files have consistent encoding, preventing errors during \n",
    "    the training process with YOLOv8 or other machine learning models that require UTF-8 encoding.\n",
    "    \"\"\"\n",
    "    \n",
    "    annotations_txt = get_annotation_files(os.path.join(training_folder, 'images'), os.path.join(training_folder, 'labels'))\n",
    "\n",
    "    for filename in annotations_txt:\n",
    "        file_path = os.path.join(os.path.join(training_folder, 'labels'), filename)\n",
    "        with open(file_path, 'rb') as f:\n",
    "            rawdata = f.read()\n",
    "        try:\n",
    "            result = codecs.decode(rawdata, 'utf-8')\n",
    "        except UnicodeDecodeError:\n",
    "            try:\n",
    "                result = codecs.decode(rawdata, 'iso-8859-1')\n",
    "                print(f\"{filename} is encoded in ISO-8859-1\")\n",
    "            except UnicodeDecodeError:\n",
    "                print(f\"{filename} encoding not recognized\")"
   ]
  },
  {
   "cell_type": "markdown",
   "id": "930bd70e-92e6-454e-b4d3-0e3e02b75106",
   "metadata": {},
   "source": [
    "#### Function to get the number of images without annotations"
   ]
  },
  {
   "cell_type": "code",
   "execution_count": 42,
   "id": "4688a1e7-a609-4e5f-8a19-0d52c5b736ed",
   "metadata": {
    "tags": []
   },
   "outputs": [],
   "source": [
    "def img_without_annotations(img_folder, txt_folder):\n",
    "    \"\"\"\n",
    "    This function identifies images in the specified image folder that do not have corresponding annotation files \n",
    "    or have empty annotation files. It helps detect unannotated images, which may cause issues during model training.\n",
    "    This function helps ensure that the dataset is clean and consistent before starting a training session, \n",
    "    preventing potential errors or suboptimal model performance caused by unannotated or empty images.\n",
    "\n",
    "    :param img_folder: \n",
    "        - Type: str\n",
    "        - Description: The absolute path to the folder where the images are stored. This function will check for \n",
    "                       image files with standard image extensions such as `.jpg`, `.jpeg`, and `.png`.\n",
    "\n",
    "    :param txt_folder: \n",
    "        - Type: str\n",
    "        - Description: The absolute path to the folder where the annotation files are stored. This function will \n",
    "                       look for `.txt` files that match the image filenames.\n",
    "\n",
    "    :return: \n",
    "        - Type: int\n",
    "        - Description: The number of unannotated images found, including those without annotation files \n",
    "                       and those with empty annotation files.\n",
    "    \"\"\"\n",
    "\n",
    "    annotation_files = get_annotation_files(img_folder, txt_folder)\n",
    "    \n",
    "    image_extensions = (\".jpg\", \".jpeg\", \".png\")\n",
    "    image_files = [filename for filename in os.listdir(os.path.join(training_folder, 'images')) if filename.endswith(image_extensions)]\n",
    "    \n",
    "    count = 0\n",
    "    unannotated_image = []\n",
    "    \n",
    "    for image_file in image_files:\n",
    "        image_name, image_ext = os.path.splitext(image_file)\n",
    "        annotation_file = os.path.join(txt_folder, image_name + '.txt')\n",
    "        if annotation_file not in annotation_files:\n",
    "            count += 1\n",
    "            unannotated_image.append(image_file)\n",
    "            print(f\"Image {image_file} has no annotation file\")\n",
    "    \n",
    "    for annotation_file in annotation_files:\n",
    "        with open(os.path.join(txt_folder, annotation_file), 'r') as f:\n",
    "            annotations = f.read()\n",
    "            if annotations == \"\":\n",
    "                count += 1\n",
    "\n",
    "    if len(unannotated_image) > 0:\n",
    "        delete = input(f'You have {len(unannotated_image)} unannotated images in your dataset. Do you want to delete them? (yes/no) : ')\n",
    "        if delete == 'yes':\n",
    "            for image in unannotated_image:\n",
    "                os.remove(os.path.join(training_folder, 'images', image))\n",
    "                print(f\"The image {os.path.join(training_folder, 'images', image)} have been delete\")\n",
    "        else:\n",
    "            print('Warning! You will start a training session with unannotated images')\n",
    "    \n",
    "    return count"
   ]
  },
  {
   "cell_type": "markdown",
   "id": "eb7335dd-8cde-4ec2-b09c-b80e418255b0",
   "metadata": {},
   "source": [
    "#### Get the number of annotations per image"
   ]
  },
  {
   "cell_type": "code",
   "execution_count": 43,
   "id": "dc635ae3-5960-46e8-bfc9-09e79a0da434",
   "metadata": {
    "editable": true,
    "slideshow": {
     "slide_type": ""
    },
    "tags": []
   },
   "outputs": [],
   "source": [
    "def annotations_per_img(training_folder):\n",
    "    \"\"\"\n",
    "    This function calculates the number of annotations per image in the specified training folder \n",
    "    and generates a CSV file containing these results. The CSV file can be used for statistical analysis \n",
    "    or to identify images with high or low annotation counts, which might impact training performance.\n",
    "\n",
    "    :param training_folder: \n",
    "        - Type: str\n",
    "        - Description: The absolute path to the training folder containing 'images' and 'labels' subdirectories. \n",
    "                       The function will analyze the annotation files stored in the 'labels' subdirectory.\n",
    "\n",
    "    :return: \n",
    "        - Type: None\n",
    "        - Description: This function does not return a value. It creates a CSV file named `annotations_per_img.csv` \n",
    "                       in the 'dataset_statistics' subdirectory of the training folder.\n",
    "\n",
    "    This CSV file can be used to identify images with insufficient or excessive annotations, enabling better \n",
    "    dataset curation and analysis.\n",
    "    \"\"\"\n",
    "\n",
    "    # Retrieve Annotation Files\n",
    "    annotation_files = get_annotation_files(os.path.join(training_folder, 'images'), os.path.join(training_folder, 'labels'))\n",
    "\n",
    "    # Count Annotations per Image\n",
    "    lines_per_file = {}\n",
    "   \n",
    "    for annotation_file in annotation_files:\n",
    "        with open(os.path.join(os.path.join(training_folder, 'labels'), annotation_file), 'r') as f:\n",
    "            nb_lines = 0\n",
    "            for line in f:\n",
    "                nb_lines += 1\n",
    "\n",
    "        image_name = os.path.splitext(annotation_file)[0]  # Get the image name without extension\n",
    "        image_path = os.path.join(os.path.join(training_folder, 'images'), f'{image_name}.jpg')  # Assume images have .jpg extension, modify as needed\n",
    "        lines_per_file[image_path] = nb_lines\n",
    "    \n",
    "    lines_per_file_tries = dict(sorted(lines_per_file.items(), key=lambda x: x[1], reverse=True))\n",
    "\n",
    "    # Create a DataFrame from the results\n",
    "    df = pd.DataFrame(lines_per_file_tries.items(), columns=['image_name', 'annotations_nb'])\n",
    "\n",
    "    # Write the DataFrame to a CSV file with ';' as the separator\n",
    "    csv_file_path = os.path.join(os.path.join(training_folder, 'dataset_statistics'), 'annotations_per_img.csv')\n",
    "    df.to_csv(csv_file_path, index=False, sep=';')\n",
    "\n",
    "    print(f'{csv_file_path} created')    "
   ]
  },
  {
   "cell_type": "markdown",
   "id": "1d9c1978-e513-460f-9e07-d686d436e0cc",
   "metadata": {},
   "source": [
    "#### Get total number of annotations"
   ]
  },
  {
   "cell_type": "code",
   "execution_count": 44,
   "id": "c5b7ff7d-ba0a-45b2-a431-79eecbc38346",
   "metadata": {
    "tags": []
   },
   "outputs": [],
   "source": [
    "def total_annotations(img_folder, txt_folder):\n",
    "    \"\"\"\n",
    "    This function calculates the total number of annotations present in the specified training dataset \n",
    "    by counting the number of non-empty lines in each annotation file. Each line in a `.txt` annotation file \n",
    "    typically represents an individual bounding box or object annotation.\n",
    "\n",
    "    :param img_folder: \n",
    "        - Type: str\n",
    "        - Description: The absolute path to the folder where the images are stored. \n",
    "                       The function will look for image files to identify corresponding annotation files.\n",
    "\n",
    "    :param txt_folder: \n",
    "        - Type: str\n",
    "        - Description: The absolute path to the folder where the annotation files are stored. \n",
    "                       The function will look for `.txt` files containing annotation data.\n",
    "\n",
    "    :return: \n",
    "        - Type: int\n",
    "        - Description: The total number of annotations across all images in the dataset. This count includes \n",
    "                       all valid lines from the `.txt` annotation files, excluding empty lines.\n",
    "\n",
    "    This function helps provide an overview of the dataset's annotation density,\n",
    "    which can be useful for dataset analysis and model training considerations.\n",
    "    \"\"\"\n",
    "\n",
    "    # Retrieve Annotation Files\n",
    "    annotation_files = get_annotation_files(img_folder, txt_folder)\n",
    "\n",
    "    # Count Annotations\n",
    "    total_lines = 0\n",
    "\n",
    "    for annotation_file in annotation_files:\n",
    "        with open(os.path.join(txt_folder, annotation_file), 'r') as f:\n",
    "            nb_lines = 0\n",
    "            for line in f:\n",
    "                if line.strip():  # ignore les lines vides\n",
    "                    nb_lines += 1\n",
    "            total_lines += nb_lines\n",
    "\n",
    "    return total_lines\n",
    "    print(f\"The total number of annotations is {total_lines}.\")"
   ]
  },
  {
   "cell_type": "markdown",
   "id": "9f99a0d6-0c48-4f2e-8df3-20fc8a95c261",
   "metadata": {},
   "source": [
    "#### Get the number of annotations for each class"
   ]
  },
  {
   "cell_type": "code",
   "execution_count": 45,
   "id": "4ec1c540-3763-4a32-9555-0478324a8285",
   "metadata": {
    "editable": true,
    "slideshow": {
     "slide_type": ""
    },
    "tags": []
   },
   "outputs": [],
   "source": [
    "def classes_distribution(training_folder):\n",
    "    \"\"\"\n",
    "    This function calculates the distribution of annotations across different classes in the training dataset.\n",
    "    It counts the number of annotations per class and saves the results in a CSV file. Additionally, it generates \n",
    "    a bar chart to visualize the class distribution and saves it as a PNG file in the 'dataset_statistics' folder.\n",
    "\n",
    "    :param training_folder: \n",
    "        - Type: str\n",
    "        - Description: The absolute path to the training folder containing the 'labels' and 'dataset_statistics' \n",
    "                       subdirectories. The function will analyze the annotation files stored in the 'labels' \n",
    "                       subdirectory and use the `labels.txt` file for class names.\n",
    "\n",
    "    :return: \n",
    "        - Type: None\n",
    "        - Description: This function does not return a value. It creates a CSV file named `class_distribution.csv` \n",
    "                       and a PNG image named `class_distribution.png` in the 'dataset_statistics' subdirectory.\n",
    "\n",
    "    This function helps provide a clear understanding of the class distribution in the dataset, \n",
    "    allowing for better insights and analysis before training a model.\n",
    "    \"\"\"\n",
    "\n",
    "    # Get the labels from the labels.txt file\n",
    "    annotation_classes = get_labels(os.path.join(training_folder, 'labels.txt'))\n",
    "    annotation_files = get_annotation_files(os.path.join(training_folder, 'images'), os.path.join(training_folder, 'labels'))\n",
    "    \n",
    "    annotation_labels = annotation_classes\n",
    "\n",
    "    # Count Annotations per Class\n",
    "    occurrences = {}\n",
    "    for annotation_file in annotation_files:\n",
    "        with open(os.path.join(os.path.join(training_folder, 'labels'), annotation_file), 'r', encoding='ascii') as f:\n",
    "            for line in f:\n",
    "                annotation_code = line.split()[0]\n",
    "                if annotation_code not in occurrences:\n",
    "                    occurrences[annotation_code] = 1\n",
    "                else:\n",
    "                    occurrences[annotation_code] += 1\n",
    "\n",
    "    # Map annotation codes to class names\n",
    "    class_names = [annotation_labels[code].strip() for code in occurrences.keys()]\n",
    "    \n",
    "    # Create a DataFrame from the results\n",
    "    df = pd.DataFrame({'class_name': class_names, 'nb_occurrences': occurrences.values()})\n",
    "\n",
    "    # Write the DataFrame to a CSV file with ';' as the separator\n",
    "    csv_file_path = os.path.join(os.path.join(training_folder, 'dataset_statistics'), 'class_distribution.csv')\n",
    "    df.to_csv(csv_file_path, index=False, sep=';')\n",
    "\n",
    "    print(f'{csv_file_path} created')\n",
    "    \n",
    "    # Creating a stacked bar chart\n",
    "    plt.barh(class_names, occurrences.values())\n",
    "\n",
    "    # Setting axis and title labels\n",
    "    plt.xlabel('Nombre d\\'occurrences')\n",
    "    plt.ylabel('Classes')\n",
    "    plt.title('Distribution des classes')\n",
    "\n",
    "    # Display and save the graph\n",
    "    plt.savefig(os.path.join(training_folder, 'dataset_statistics', 'class_distribution.png'), bbox_inches='tight')\n",
    "    plt.show()\n"
   ]
  },
  {
   "cell_type": "markdown",
   "id": "40383b8e-af92-4743-b45f-2c6fdf165ce2",
   "metadata": {},
   "source": [
    "#### Output global statistics"
   ]
  },
  {
   "cell_type": "code",
   "execution_count": 46,
   "id": "1edcd331-1ddf-4fe0-a68f-8ae5220a030b",
   "metadata": {
    "tags": []
   },
   "outputs": [],
   "source": [
    "def get_global_results(training_folder):\n",
    "    \"\"\"\n",
    "    This function generates a summary of key dataset metrics and saves the results in a CSV file named `global_data.csv`.\n",
    "    The metrics included are:\n",
    "        - The number of images without corresponding annotations.\n",
    "        - The total number of annotations in the dataset.\n",
    "\n",
    "    :param training_folder: \n",
    "        - Type: str\n",
    "        - Description: The absolute path to the training folder containing the 'images', 'labels', and \n",
    "                       'dataset_statistics' subdirectories. The function will analyze the annotation files \n",
    "                       in the 'labels' subdirectory and images in the 'images' subdirectory.\n",
    "\n",
    "    :return: \n",
    "        - Type: None\n",
    "        - Description: This function does not return a value. It creates a CSV file named `global_data.csv` \n",
    "                       in the 'dataset_statistics' subdirectory of the training folder.\n",
    "\n",
    "    This function provides a quick summary of the dataset's quality and completeness, allowing for easier \n",
    "    tracking of dataset issues before starting model training.\n",
    "    \"\"\"\n",
    "\n",
    "    # Calculate the metrics\n",
    "    metrics = {\n",
    "        'Number of files without annotations': img_without_annotations(os.path.join(training_folder, 'images'), os.path.join(training_folder, 'labels')),\n",
    "        'Total number of annotations': total_annotations(os.path.join(training_folder, 'images'), os.path.join(training_folder, 'labels'))\n",
    "    }\n",
    "\n",
    "    # Create a DataFrame from the results\n",
    "    df = pd.DataFrame(metrics.items(), columns=['metric', 'value'])\n",
    "\n",
    "    # Write the DataFrame to a CSV file with ';' as the separator\n",
    "    csv_file_path = os.path.join(os.path.join(training_folder, 'dataset_statistics'), 'global_data.csv')\n",
    "    df.to_csv(csv_file_path, index=False, sep=';')\n",
    "\n",
    "    print(f'{csv_file_path} created')"
   ]
  },
  {
   "cell_type": "markdown",
   "id": "4be0d15a-aedb-4823-9e45-b5180e77d717",
   "metadata": {},
   "source": [
    "## Processing"
   ]
  },
  {
   "cell_type": "code",
   "execution_count": null,
   "id": "db382e0d-13b3-4eba-b72d-99e5d56f92ad",
   "metadata": {
    "tags": []
   },
   "outputs": [],
   "source": [
    "training_folder = 'TRAINING_FOLDER' # to be modified, absolute path to the folder in which the training session data are stored"
   ]
  },
  {
   "cell_type": "code",
   "execution_count": 49,
   "id": "ec3e660f-e158-4fec-8d0c-f4f0f3f99bcc",
   "metadata": {
    "tags": []
   },
   "outputs": [],
   "source": [
    "# Create the statistic folder\n",
    "create_stats_folder(training_folder)"
   ]
  },
  {
   "cell_type": "code",
   "execution_count": 50,
   "id": "7a7fbab6-4e57-469d-99f9-03c8d1fd9193",
   "metadata": {},
   "outputs": [],
   "source": [
    "# Clean Label Studio file, default False, change as needed\n",
    "clean_LS(training_folder, annotated_with_LS=False)"
   ]
  },
  {
   "cell_type": "code",
   "execution_count": 51,
   "id": "c5d2c468-efc6-4b29-a9ba-2311e5335470",
   "metadata": {
    "tags": []
   },
   "outputs": [],
   "source": [
    "# Check encoding format of annotation files\n",
    "encoding(training_folder)"
   ]
  },
  {
   "cell_type": "code",
   "execution_count": null,
   "id": "4c4a82a3-6454-4e38-b6eb-bc5ae6890464",
   "metadata": {
    "tags": []
   },
   "outputs": [],
   "source": [
    "# Print a txt file with the number of annotations per image\n",
    "annotations_per_img(training_folder)"
   ]
  },
  {
   "cell_type": "code",
   "execution_count": null,
   "id": "84514d5b-48d3-4b9a-848e-143bb01afd9b",
   "metadata": {
    "tags": []
   },
   "outputs": [],
   "source": [
    "# Print a file with the distribution of classes in the training dataset\n",
    "classes_distribution(training_folder)"
   ]
  },
  {
   "cell_type": "code",
   "execution_count": null,
   "id": "a95525e2-9eb4-478a-bd0b-4c7922e21939",
   "metadata": {
    "editable": true,
    "slideshow": {
     "slide_type": ""
    },
    "tags": []
   },
   "outputs": [],
   "source": [
    "# Print a file with the number of manuscripts used for training, the number of unannotated images and total annotations\n",
    "get_global_results(training_folder)"
   ]
  }
 ],
 "metadata": {
  "kernelspec": {
   "display_name": "tiamat_env",
   "language": "python",
   "name": "tiamat_env"
  },
  "language_info": {
   "codemirror_mode": {
    "name": "ipython",
    "version": 3
   },
   "file_extension": ".py",
   "mimetype": "text/x-python",
   "name": "python",
   "nbconvert_exporter": "python",
   "pygments_lexer": "ipython3",
   "version": "3.8.0"
  },
  "toc-autonumbering": true
 },
 "nbformat": 4,
 "nbformat_minor": 5
}
